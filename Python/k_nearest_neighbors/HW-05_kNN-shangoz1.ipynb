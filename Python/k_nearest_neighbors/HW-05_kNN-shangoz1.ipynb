{
 "cells": [
  {
   "cell_type": "markdown",
   "metadata": {},
   "source": [
    "### <p style=\"text-align: right;\"> &#9989; Zane Shango.</p>"
   ]
  },
  {
   "cell_type": "markdown",
   "metadata": {},
   "source": [
    "# CMSE Homework 05\n",
    "\n",
    "\n",
    "### Assignment instructions\n",
    "\n",
    "Work through the following assignment, making sure to follow all of the directions and answer all of the questions.\n",
    "\n",
    "There are 25 points possible on this assignment. Point values for each part are included in the section headers.\n",
    "\n",
    "This assignment is due roughly two weeks from now at 11:59 pm on **Friday March 27**. It should be uploaded into the \"Homework Assignments\" submission folder for Homework #5 in your D2L webpage. Submission instructions can be found at the end of the notebook.\n",
    "\n",
    "**Hint**: It is possible you are asked to do something you are not familiar with. That's why you have internet access. Do some smart searches and see what you can find! "
   ]
  },
  {
   "cell_type": "markdown",
   "metadata": {},
   "source": [
    "## Part 1: Setting up a repository for tracking changes (3 points)\n",
    "\n",
    "For this assignment, you're going to add it to the cmse202-s20-turnin repository you created in class so that you can track your progress on the assignment and preserve the final version that you turn in. In order to do this you need to:\n",
    "\n",
    "* Navigate to your `cmse202-s20-turnin` repository and create a new directory called `hw-05`.\n",
    "* Move this notebook into that new directory in your repository, then add it and commit it to your repository.\n",
    " * Finally, to test that everything is working, \"git push\" the file so that it ends up in your GitHub repository.\n",
    "\n",
    "Important: Make sure you've added your PTA as a collaborators\\ to your \"turnin\" respository with \"Read\" access so that we can see your assignment.\n",
    "\n",
    "* Section 001: nchamusah14\n",
    "* Section 002: nchamusah14\n",
    "* Section 003: genster6\n",
    "\n",
    "Also important: Make sure that the version of this notebook that you are working on is the same one that you just added to your repository! If you are working on a different copy of the noteobok, none of your changes will be tracked.\n",
    "\n",
    "If everything went as intended, the file should now show up on your GitHub account in the `cmse202-s20-turnin` repository under the `hw-05` directory that you just created. Periodically, you'll be asked to commit your changes to the repository and push them to the remote GitHub location. Of course, you can always commit your changes more often than that, if you wish. It can be good to get into a habit of committing your changes any time you make a significant modification, or when you stop working on the project for a bit."
   ]
  },
  {
   "cell_type": "markdown",
   "metadata": {},
   "source": [
    "## Part 2: Load and Plot the Data (7 points)\n",
    "\n",
    "In this homework we will be woking with the wine dataset and building a k-nearest neighbors classifier class. The first step is to load the data and plot the labels."
   ]
  },
  {
   "cell_type": "markdown",
   "metadata": {},
   "source": [
    "**Question 2.1 (2 points)** Load the *wine_data.csv* as a pandas dataframe and select the follwing three cloumns; Class label, Alcohol, Malic acid "
   ]
  },
  {
   "cell_type": "code",
   "execution_count": 2,
   "metadata": {},
   "outputs": [
    {
     "data": {
      "text/html": [
       "<div>\n",
       "<style scoped>\n",
       "    .dataframe tbody tr th:only-of-type {\n",
       "        vertical-align: middle;\n",
       "    }\n",
       "\n",
       "    .dataframe tbody tr th {\n",
       "        vertical-align: top;\n",
       "    }\n",
       "\n",
       "    .dataframe thead th {\n",
       "        text-align: right;\n",
       "    }\n",
       "</style>\n",
       "<table border=\"1\" class=\"dataframe\">\n",
       "  <thead>\n",
       "    <tr style=\"text-align: right;\">\n",
       "      <th></th>\n",
       "      <th>Class label</th>\n",
       "      <th>Alcohol</th>\n",
       "      <th>Malic acid</th>\n",
       "    </tr>\n",
       "  </thead>\n",
       "  <tbody>\n",
       "    <tr>\n",
       "      <td>0</td>\n",
       "      <td>1</td>\n",
       "      <td>14.23</td>\n",
       "      <td>1.71</td>\n",
       "    </tr>\n",
       "    <tr>\n",
       "      <td>1</td>\n",
       "      <td>1</td>\n",
       "      <td>13.20</td>\n",
       "      <td>1.78</td>\n",
       "    </tr>\n",
       "    <tr>\n",
       "      <td>2</td>\n",
       "      <td>1</td>\n",
       "      <td>13.16</td>\n",
       "      <td>2.36</td>\n",
       "    </tr>\n",
       "    <tr>\n",
       "      <td>3</td>\n",
       "      <td>1</td>\n",
       "      <td>14.37</td>\n",
       "      <td>1.95</td>\n",
       "    </tr>\n",
       "    <tr>\n",
       "      <td>4</td>\n",
       "      <td>1</td>\n",
       "      <td>13.24</td>\n",
       "      <td>2.59</td>\n",
       "    </tr>\n",
       "  </tbody>\n",
       "</table>\n",
       "</div>"
      ],
      "text/plain": [
       "   Class label  Alcohol  Malic acid\n",
       "0            1    14.23        1.71\n",
       "1            1    13.20        1.78\n",
       "2            1    13.16        2.36\n",
       "3            1    14.37        1.95\n",
       "4            1    13.24        2.59"
      ]
     },
     "execution_count": 2,
     "metadata": {},
     "output_type": "execute_result"
    }
   ],
   "source": [
    "### Put your code here ###\n",
    "import pandas as pd\n",
    "\n",
    "wine = pd.read_csv(\"wine_data.csv\", usecols = ['Class label','Alcohol','Malic acid'])\n",
    "\n",
    "wine.head()"
   ]
  },
  {
   "cell_type": "markdown",
   "metadata": {},
   "source": [
    "**Question 2.2 (2 points)** Find the number of unqiue entries in the Class label column"
   ]
  },
  {
   "cell_type": "code",
   "execution_count": 3,
   "metadata": {},
   "outputs": [
    {
     "name": "stdout",
     "output_type": "stream",
     "text": [
      "[1 2 3]\n"
     ]
    },
    {
     "data": {
      "text/plain": [
       "3"
      ]
     },
     "execution_count": 3,
     "metadata": {},
     "output_type": "execute_result"
    }
   ],
   "source": [
    "### Put your code here ###\n",
    "\n",
    "classes = wine['Class label'].unique() # there are 3 unique entries, this is them listed\n",
    "print(classes)\n",
    "\n",
    "len(wine['Class label'].unique()) # len function showing 3 unique entries"
   ]
  },
  {
   "cell_type": "markdown",
   "metadata": {},
   "source": [
    "**Question 2.3 (3 points)** Make a scatter plot including every sample in the dataset with: the Alcohol feature on the x-axis, the Malic acid feature on the y-axis, and different colors for each class label"
   ]
  },
  {
   "cell_type": "code",
   "execution_count": 4,
   "metadata": {},
   "outputs": [
    {
     "data": {
      "text/plain": [
       "<matplotlib.legend.Legend at 0x11d687050>"
      ]
     },
     "execution_count": 4,
     "metadata": {},
     "output_type": "execute_result"
    },
    {
     "data": {
      "image/png": "[encoded data removed]",
      "text/plain": [
       "<Figure size 432x288 with 1 Axes>"
      ]
     },
     "metadata": {
      "needs_background": "light"
     },
     "output_type": "display_data"
    }
   ],
   "source": [
    "### Put your code here ###\n",
    "import matplotlib.pyplot as plt\n",
    "%matplotlib inline \n",
    "\n",
    "scatter = plt.scatter(x = wine['Alcohol'], y = wine['Malic acid'], c = wine['Class label'])\n",
    "plt.grid()\n",
    "plt.xlabel(\"Alcohol\")\n",
    "plt.ylabel(\"Malic Acid\")\n",
    "plt.title(\"Wine Class Alcohol by Malic Acid\")\n",
    "plt.legend(*scatter.legend_elements(),loc=\"upper right\", title=\"Classes\")"
   ]
  },
  {
   "cell_type": "markdown",
   "metadata": {},
   "source": [
    "# k-Nearest Neighbors\n",
    "\n",
    "In the next part we will be building a class that will use the k-nearest neighbors algorithm (kNN) to make predictions on the wine data. kNN makes a prediction for a test sample by first finding the top-k \"closest\" samples in the training set. The predcition is then given by finding the class label that is the most popular among the top-k samples. For more information see:\n",
    "\n",
    "1. https://scikit-learn.org/stable/modules/neighbors.html#nearest-neighbors\n",
    "2. https://scikit-learn.org/stable/modules/generated/sklearn.neighbors.KNeighborsClassifier.html\n"
   ]
  },
  {
   "cell_type": "markdown",
   "metadata": {},
   "source": [
    "## Part 3: Prepare data and make predictions (12 points)"
   ]
  },
  {
   "cell_type": "markdown",
   "metadata": {},
   "source": [
    "**Question 3.1 (2 points)** Apply the \"train_test_split\" function in the *sklearn* package to split the data in 70% for training and 30% for testing. Class label will be the target variable. Alcohol and Malic acid will be the features. Using common variable names like X_train, y_train, X_test and y_test might help later."
   ]
  },
  {
   "cell_type": "code",
   "execution_count": 82,
   "metadata": {},
   "outputs": [],
   "source": [
    "### Put your code here ###\n",
    "import numpy as np\n",
    "from sklearn.model_selection import train_test_split\n",
    "\n",
    "features = wine[['Alcohol','Malic acid']]\n",
    "target = wine['Class label']\n",
    "\n",
    "X_train, X_test, y_train, y_test = train_test_split(features, target, test_size = 0.30, random_state = 42)\n",
    "\n"
   ]
  },
  {
   "cell_type": "markdown",
   "metadata": {},
   "source": [
    "**Question 3.2 (2 points)** We are now going to build a Class that will act as a k-nearest neighbor classifer. First, make a class called kNN and have the \\__init__ method take a single argument, k, the number of samples in the training set to use for prediction. Once this is done, instantiate a class with k = 5."
   ]
  },
  {
   "cell_type": "code",
   "execution_count": 83,
   "metadata": {},
   "outputs": [],
   "source": [
    "### Put your code here ###\n",
    "\n",
    "class kNN():\n",
    "    def __init__(self, k):\n",
    "        self.k = k"
   ]
  },
  {
   "cell_type": "code",
   "execution_count": 84,
   "metadata": {},
   "outputs": [
    {
     "data": {
      "text/plain": [
       "<__main__.kNN at 0x11f2dea90>"
      ]
     },
     "execution_count": 84,
     "metadata": {},
     "output_type": "execute_result"
    }
   ],
   "source": [
    "kNN(k = 5)"
   ]
  },
  {
   "cell_type": "markdown",
   "metadata": {},
   "source": [
    "**Question 3.3 (2 points)** Next, we need to load some training data into the classifer. Do this by writing a new method in the kNN class called get_train_data. The method will take two arguments, the first is the training data containing the features and the other is the traning data that contains the class labels. Instantiate the class with the relavent data arrays from Question 3.1."
   ]
  },
  {
   "cell_type": "code",
   "execution_count": 85,
   "metadata": {},
   "outputs": [],
   "source": [
    "### Put your code here ###\n",
    "class kNN():\n",
    "    def __init__(self, k):\n",
    "        self.k = k\n",
    "        \n",
    "    def get_train_data(self, features, labels):\n",
    "        self.features = features\n",
    "        self.labels = labels"
   ]
  },
  {
   "cell_type": "markdown",
   "metadata": {},
   "source": [
    "**Question 3.4 (4 points)** Now we are going to add a method called _predict_ that takes one input, the test data for the feautres (X_test) and will return a list/array of the class label predicted for each test sample. The top k-neighbors will be selected based on the euclidean distance. One way of thinking of how to break this down into smaller steps is: \n",
    "\n",
    "1. For a single test sample, find the euclidean distance to all of the training samples (can use a for loop). For this feel free to use the \"euclidean\" function from the _scipy.spatial.distance_ package.\n",
    "2. Find which traning samples are the top-k closest to the test sample, and then find the class labels for those top-k samples. Then find out which class label occurs the most (if two or more classes occur equally as the most than randomaly pick one). Hint using the function \"np.argsort\" might be useful to map the sorting of the distances to the class labels.\n",
    "3. Once this works, put this inside another loop that goes through and does this for all the samples in the test set.\n",
    "\n",
    "Note for this question and the next, you can use \"KNeighborsClassifier\" from _sklearn.neighbors_ to see if your answer agrees, but you need to write your own class methods to recieve credit. The default parameters of \"KNeighborsClassifier\" are the euclidean distance (i.e.  p=2, metric='minkowski' is the same as the euclidean distance). Also the \"fit\" method in the sklearn version does the same thing as the \"get_train_data\" method in the kNN class.\n"
   ]
  },
  {
   "cell_type": "code",
   "execution_count": 86,
   "metadata": {},
   "outputs": [],
   "source": [
    "### Put your code here ###\n",
    "import scipy\n",
    "\n",
    "class kNN():\n",
    "    def __init__(self, k):\n",
    "        self.k = k\n",
    "        \n",
    "    def get_train_data(self, features_train, labels_train):\n",
    "        self.features_train = features_train\n",
    "        self.labels_train = labels_train\n",
    "        \n",
    "    def predict(self, features_test):\n",
    "        self.features_test = features_test\n",
    "        dist_list = np.zeros(len(features_test), dtype = int) # make array of zeros with len(features_test)\n",
    "        sorted_dist = []\n",
    "        k_list = []\n",
    "        for i in features_test:\n",
    "            dist_values = []\n",
    "            dist_list[i] = dist_values\n",
    "            for j in features_train:\n",
    "                euc_dist = scipy.spatial.distance.euclidean(i,j)\n",
    "                dist_values.append(euc_dist)\n",
    "        \n",
    "        for d in dist_list:\n",
    "            sort = np.argsort(d) \n",
    "            sorted_dist.append(sort)\n",
    "            \n",
    "        for s in sorted_dist:    \n",
    "            k_nns = s[0,k]\n",
    "            return k_nns           \n",
    "        "
   ]
  },
  {
   "cell_type": "code",
   "execution_count": 87,
   "metadata": {},
   "outputs": [
    {
     "name": "stdout",
     "output_type": "stream",
     "text": [
      "Get Train Data: None\n"
     ]
    },
    {
     "ename": "IndexError",
     "evalue": "only integers, slices (`:`), ellipsis (`...`), numpy.newaxis (`None`) and integer or boolean arrays are valid indices",
     "output_type": "error",
     "traceback": [
      "\u001b[0;31m---------------------------------------------------------------------------\u001b[0m",
      "\u001b[0;31mIndexError\u001b[0m                                Traceback (most recent call last)",
      "\u001b[0;32m<ipython-input-87-6a550e284eb6>\u001b[0m in \u001b[0;36m<module>\u001b[0;34m\u001b[0m\n\u001b[1;32m      5\u001b[0m \u001b[0;34m\u001b[0m\u001b[0m\n\u001b[1;32m      6\u001b[0m \u001b[0mprint\u001b[0m\u001b[0;34m(\u001b[0m\u001b[0;34m\"Get Train Data:\"\u001b[0m\u001b[0;34m,\u001b[0m \u001b[0ma\u001b[0m\u001b[0;34m.\u001b[0m\u001b[0mget_train_data\u001b[0m\u001b[0;34m(\u001b[0m\u001b[0mX_train\u001b[0m\u001b[0;34m,\u001b[0m\u001b[0my_train\u001b[0m\u001b[0;34m)\u001b[0m\u001b[0;34m)\u001b[0m\u001b[0;34m\u001b[0m\u001b[0;34m\u001b[0m\u001b[0m\n\u001b[0;32m----> 7\u001b[0;31m \u001b[0mprint\u001b[0m\u001b[0;34m(\u001b[0m\u001b[0;34m\"Predict:\"\u001b[0m\u001b[0;34m,\u001b[0m \u001b[0ma\u001b[0m\u001b[0;34m.\u001b[0m\u001b[0mpredict\u001b[0m\u001b[0;34m(\u001b[0m\u001b[0mX_test\u001b[0m\u001b[0;34m)\u001b[0m\u001b[0;34m)\u001b[0m\u001b[0;34m\u001b[0m\u001b[0;34m\u001b[0m\u001b[0m\n\u001b[0m\u001b[1;32m      8\u001b[0m \u001b[0;34m\u001b[0m\u001b[0m\n",
      "\u001b[0;32m<ipython-input-86-9b81caf0d4e3>\u001b[0m in \u001b[0;36mpredict\u001b[0;34m(self, features_test)\u001b[0m\n\u001b[1;32m     17\u001b[0m         \u001b[0;32mfor\u001b[0m \u001b[0mi\u001b[0m \u001b[0;32min\u001b[0m \u001b[0mfeatures_test\u001b[0m\u001b[0;34m:\u001b[0m\u001b[0;34m\u001b[0m\u001b[0;34m\u001b[0m\u001b[0m\n\u001b[1;32m     18\u001b[0m             \u001b[0mdist_values\u001b[0m \u001b[0;34m=\u001b[0m \u001b[0;34m[\u001b[0m\u001b[0;34m]\u001b[0m\u001b[0;34m\u001b[0m\u001b[0;34m\u001b[0m\u001b[0m\n\u001b[0;32m---> 19\u001b[0;31m             \u001b[0mdist_list\u001b[0m\u001b[0;34m[\u001b[0m\u001b[0mi\u001b[0m\u001b[0;34m]\u001b[0m \u001b[0;34m=\u001b[0m \u001b[0mdist_values\u001b[0m\u001b[0;34m\u001b[0m\u001b[0;34m\u001b[0m\u001b[0m\n\u001b[0m\u001b[1;32m     20\u001b[0m             \u001b[0;32mfor\u001b[0m \u001b[0mj\u001b[0m \u001b[0;32min\u001b[0m \u001b[0mfeatures_train\u001b[0m\u001b[0;34m:\u001b[0m\u001b[0;34m\u001b[0m\u001b[0;34m\u001b[0m\u001b[0m\n\u001b[1;32m     21\u001b[0m                 \u001b[0meuc_dist\u001b[0m \u001b[0;34m=\u001b[0m \u001b[0mscipy\u001b[0m\u001b[0;34m.\u001b[0m\u001b[0mspatial\u001b[0m\u001b[0;34m.\u001b[0m\u001b[0mdistance\u001b[0m\u001b[0;34m.\u001b[0m\u001b[0meuclidean\u001b[0m\u001b[0;34m(\u001b[0m\u001b[0mi\u001b[0m\u001b[0;34m,\u001b[0m\u001b[0mj\u001b[0m\u001b[0;34m)\u001b[0m\u001b[0;34m\u001b[0m\u001b[0;34m\u001b[0m\u001b[0m\n",
      "\u001b[0;31mIndexError\u001b[0m: only integers, slices (`:`), ellipsis (`...`), numpy.newaxis (`None`) and integer or boolean arrays are valid indices"
     ]
    }
   ],
   "source": [
    "# test for above class^\n",
    "\n",
    "\n",
    "a = kNN(k =5)\n",
    "\n",
    "print(\"Get Train Data:\", a.get_train_data(X_train,y_train))\n",
    "print(\"Predict:\", a.predict(X_test))\n",
    "\n"
   ]
  },
  {
   "cell_type": "code",
   "execution_count": 93,
   "metadata": {},
   "outputs": [
    {
     "name": "stdout",
     "output_type": "stream",
     "text": [
      "[3 3 3 1 2 1 3 3 2 3 1 3 3 3 1 3 2 2 1 2 1 2 2 3 3 3 2 2 2 1 1 2 3 1 1 1 1\n",
      " 3 2 1 1 2 2 1 3 1 2 3 2 1 2 1 1 3]\n"
     ]
    }
   ],
   "source": [
    "# predict portion of class is not correct, I am confused on how to fix it\n",
    "# here is a prediction with the sklearn knn, to be able to proceed to next part(s)\n",
    "from sklearn.neighbors import KNeighborsClassifier\n",
    "\n",
    "knn = KNeighborsClassifier()\n",
    "\n",
    "knn.fit(X_train, y_train)\n",
    "\n",
    "y_pred = knn.predict(X_test)\n",
    "print(y_pred)"
   ]
  },
  {
   "cell_type": "markdown",
   "metadata": {},
   "source": [
    "**Question 3.5 (2 points)** Take the predcitions and calculate the accuracy using the \"accuracy_score\" function from the _sklearn.metrics_ package."
   ]
  },
  {
   "cell_type": "code",
   "execution_count": 95,
   "metadata": {},
   "outputs": [
    {
     "name": "stdout",
     "output_type": "stream",
     "text": [
      "Accuracy: 0.7962962962962963\n"
     ]
    }
   ],
   "source": [
    "### Put your code here ###\n",
    "from sklearn.metrics import accuracy_score\n",
    "\n",
    "accuracy = accuracy_score(y_test, y_pred)\n",
    "print(\"Accuracy:\", accuracy)"
   ]
  },
  {
   "cell_type": "markdown",
   "metadata": {},
   "source": [
    "## Part 4: Finding which hyperparameter works the best. (3 points)\n",
    "\n",
    "Almost all machine learning models have hyperparamters. Hyperparameters are setting(s) in the model that the user needs to choose before learning takes place. For example, in the perceptron model, the learning rate is something that needs to be set by the user before hand. In k-nearest neighbors, the number of neighbors to consider (k), is the hyperparameter. An important task in machine learning is hyperparameter tuning, which is finding the optimal hyperparmeter. In this section, we will generate a plot of the accuracy of a number of different choices of k"
   ]
  },
  {
   "cell_type": "markdown",
   "metadata": {},
   "source": [
    "**Question 4.1 (3 points)** Here, find the accuracy of the kNN model for the following values of k; 1, 5, 10, 50, 100 and make a plot of the accuracy versus these values of k.\n",
    "\n",
    "If you were not able to get the class in Part 3 working, you can use \"KNeighborsClassifier\" from _sklearn.neighbors_ for this question and get full credit. Note, the default parameters of \"KNeighborsClassifier\" are the euclidean distance (i.e.  p=2, metric='minkowski' is the same as the euclidean distance).\n"
   ]
  },
  {
   "cell_type": "code",
   "execution_count": 102,
   "metadata": {},
   "outputs": [
    {
     "data": {
      "text/plain": [
       "Text(0, 0.5, 'Accuracy Score (range 0-1)')"
      ]
     },
     "execution_count": 102,
     "metadata": {},
     "output_type": "execute_result"
    },
    {
     "data": {
      "image/png": "[encoded data removed]",
      "text/plain": [
       "<Figure size 432x288 with 1 Axes>"
      ]
     },
     "metadata": {
      "needs_background": "light"
     },
     "output_type": "display_data"
    }
   ],
   "source": [
    "### Put your code here ###\n",
    "\n",
    "k_list = [1,5,10,50,100]\n",
    "acc_list = []\n",
    "\n",
    "for i in k_list:\n",
    "    k = i\n",
    "    knn_p4 = KNeighborsClassifier(n_neighbors = k)\n",
    "    knn_p4.fit(X_train, y_train)\n",
    "    y_pred_p4 = knn_p4.predict(X_test)\n",
    "    accuracy_p4 = accuracy_score(y_test,y_pred_p4)\n",
    "    acc_list.append(accuracy_p4)\n",
    "    \n",
    "\n",
    "plt.plot(k_list,acc_list)\n",
    "plt.xticks(k_list)\n",
    "plt.title(\"Part 4 k Value Accuracies\")\n",
    "plt.xlabel(\"k Value (number of nearest neighbors)\")\n",
    "plt.ylabel(\"Accuracy Score (range 0-1)\")\n",
    "    "
   ]
  },
  {
   "cell_type": "markdown",
   "metadata": {},
   "source": [
    "---\n",
    "### Assignment wrap-up\n",
    "\n",
    "Please fill out the form that appears when you run the code below.  **You must completely fill this out in order to receive credit for the assignment!**"
   ]
  },
  {
   "cell_type": "code",
   "execution_count": 103,
   "metadata": {},
   "outputs": [
    {
     "data": {
      "text/html": [
       "\n",
       "<iframe \n",
       "\tsrc=\"https://docs.google.com/forms/d/e/1FAIpQLSe0NSZaTZS977kVn0JwUPYnvmqWliTlbM3eeF1qI8SxLpWcRw/viewform?usp=sf_link\" \n",
       "\twidth=\"800px\" \n",
       "\theight=\"600px\" \n",
       "\tframeborder=\"0\" \n",
       "\tmarginheight=\"0\" \n",
       "\tmarginwidth=\"0\">\n",
       "\tLoading...\n",
       "</iframe>\n"
      ],
      "text/plain": [
       "<IPython.core.display.HTML object>"
      ]
     },
     "execution_count": 103,
     "metadata": {},
     "output_type": "execute_result"
    }
   ],
   "source": [
    "from IPython.display import HTML\n",
    "HTML(\n",
    "\"\"\"\n",
    "<iframe \n",
    "\tsrc=\"https://docs.google.com/forms/d/e/1FAIpQLSe0NSZaTZS977kVn0JwUPYnvmqWliTlbM3eeF1qI8SxLpWcRw/viewform?usp=sf_link\" \n",
    "\twidth=\"800px\" \n",
    "\theight=\"600px\" \n",
    "\tframeborder=\"0\" \n",
    "\tmarginheight=\"0\" \n",
    "\tmarginwidth=\"0\">\n",
    "\tLoading...\n",
    "</iframe>\n",
    "\"\"\"\n",
    ")"
   ]
  },
  {
   "cell_type": "markdown",
   "metadata": {},
   "source": [
    "### Congratulations, you're done!\n",
    "\n",
    "Submit this assignment by uploading it to the course Desire2Learn web page.  Go to the \"Homework Assignments\" folder, find the dropbox link for Homework #5, and upload your notebook **and the script you wrote**."
   ]
  },
  {
   "cell_type": "code",
   "execution_count": null,
   "metadata": {},
   "outputs": [],
   "source": []
  }
 ],
 "metadata": {
  "kernelspec": {
   "display_name": "Python 3",
   "language": "python",
   "name": "python3"
  },
  "language_info": {
   "codemirror_mode": {
    "name": "ipython",
    "version": 3
   },
   "file_extension": ".py",
   "mimetype": "text/x-python",
   "name": "python",
   "nbconvert_exporter": "python",
   "pygments_lexer": "ipython3",
   "version": "3.7.4"
  }
 },
 "nbformat": 4,
 "nbformat_minor": 2
}
